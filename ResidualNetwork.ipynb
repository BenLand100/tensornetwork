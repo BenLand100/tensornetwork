{
 "cells": [
  {
   "cell_type": "code",
   "execution_count": 1,
   "metadata": {},
   "outputs": [],
   "source": [
    "import npnet as tn\n",
    "import ocr_data\n",
    "\n",
    "import numpy as np"
   ]
  },
  {
   "cell_type": "code",
   "execution_count": 2,
   "metadata": {},
   "outputs": [],
   "source": [
    "%matplotlib inline\n",
    "\n",
    "import matplotlib\n",
    "import matplotlib.pyplot as plt\n",
    "\n",
    "matplotlib.rcParams['figure.figsize'] = [10,7]\n",
    "matplotlib.rcParams['xtick.top'] = True\n",
    "matplotlib.rcParams['xtick.direction'] = 'in'\n",
    "matplotlib.rcParams['xtick.minor.visible'] = True\n",
    "matplotlib.rcParams['ytick.right'] = True\n",
    "matplotlib.rcParams['ytick.direction'] = 'in'\n",
    "matplotlib.rcParams['ytick.minor.visible'] = True\n",
    "matplotlib.rcParams['font.size'] = 19\n",
    "matplotlib.rcParams['font.family'] = 'DejaVu Serif'\n",
    "matplotlib.rcParams['mathtext.default'] = 'regular'\n",
    "matplotlib.rcParams['errorbar.capsize'] = 3"
   ]
  },
  {
   "cell_type": "code",
   "execution_count": 3,
   "metadata": {},
   "outputs": [
    {
     "name": "stdout",
     "output_type": "stream",
     "text": [
      "(32, 32) (26,)\n"
     ]
    }
   ],
   "source": [
    "input_shape = ocr_data.in_2d_shape\n",
    "conv_kernels = [] #[(5,5)] #[(3,3),(3,3),(3,3),(3,3),(3,3)]\n",
    "conv_stride = [] #[(3,3)] #[(1,1),(2,2),(1,1),(2,2),(1,1)]\n",
    "conv_outs = [] #[(4,)] #[(4,),(8,),(8,),(16,),(16,)]\n",
    "conv_layers = len(conv_kernels)\n",
    "hidden_shapes = [(10,10)]\n",
    "hidden_layers = len(hidden_shapes)\n",
    "residual_layers = 4\n",
    "more_hidden_shapes = []\n",
    "more_hidden_layers = len(hidden_shapes)\n",
    "output_shape = ocr_data.out_shape\n",
    "print(input_shape,output_shape)"
   ]
  },
  {
   "cell_type": "code",
   "execution_count": 4,
   "metadata": {},
   "outputs": [
    {
     "name": "stdout",
     "output_type": "stream",
     "text": [
      "Input :: [] -> [(32, 32)]\n",
      "Dense :: [(32, 32)] -> [(10, 10)]\n",
      "ResWrap :: [(10, 10)] -> [(10, 10)]\n",
      "ResWrap :: [(10, 10)] -> [(10, 10)]\n",
      "ResWrap :: [(10, 10)] -> [(10, 10)]\n",
      "ResWrap :: [(10, 10)] -> [(10, 10)]\n",
      "Dense :: [(10, 10)] -> [(26,)]\n",
      "ResWrap :: [(10, 10)] -> [(10, 10)] idx: 1 => Dense :: [(10, 10)] -> [(26,)] idx: 0\n",
      "Add :: [(10, 10), (10, 10)] -> [(10, 10)] idx: 2 => ResWrap :: [(10, 10)] -> [(10, 10)] idx: 1\n",
      "ResWrap :: [(10, 10)] -> [(10, 10)] idx: 3 => Add :: [(10, 10), (10, 10)] -> [(10, 10)] idx: 2\n",
      "Dense :: [(10, 10)] -> [(10, 10)] idx: 4 => Add :: [(10, 10), (10, 10)] -> [(10, 10)] idx: 2\n",
      "Add :: [(10, 10), (10, 10)] -> [(10, 10)] idx: 5 => ResWrap :: [(10, 10)] -> [(10, 10)] idx: 3\n",
      "Dense :: [(10, 10)] -> [(10, 10)] idx: 6 => Dense :: [(10, 10)] -> [(10, 10)] idx: 4\n",
      "ResWrap :: [(10, 10)] -> [(10, 10)] idx: 7 => Add :: [(10, 10), (10, 10)] -> [(10, 10)] idx: 5\n",
      "Dense :: [(10, 10)] -> [(10, 10)] idx: 8 => Add :: [(10, 10), (10, 10)] -> [(10, 10)] idx: 5\n",
      "ResWrap :: [(10, 10)] -> [(10, 10)] idx: 3 => Dense :: [(10, 10)] -> [(10, 10)] idx: 6\n",
      "Add :: [(10, 10), (10, 10)] -> [(10, 10)] idx: 9 => ResWrap :: [(10, 10)] -> [(10, 10)] idx: 7\n",
      "Dense :: [(10, 10)] -> [(10, 10)] idx: 10 => Dense :: [(10, 10)] -> [(10, 10)] idx: 8\n",
      "ResWrap :: [(10, 10)] -> [(10, 10)] idx: 11 => Add :: [(10, 10), (10, 10)] -> [(10, 10)] idx: 9\n",
      "Dense :: [(10, 10)] -> [(10, 10)] idx: 12 => Add :: [(10, 10), (10, 10)] -> [(10, 10)] idx: 9\n",
      "ResWrap :: [(10, 10)] -> [(10, 10)] idx: 7 => Dense :: [(10, 10)] -> [(10, 10)] idx: 10\n",
      "Add :: [(10, 10), (10, 10)] -> [(10, 10)] idx: 13 => ResWrap :: [(10, 10)] -> [(10, 10)] idx: 11\n",
      "Dense :: [(10, 10)] -> [(10, 10)] idx: 14 => Dense :: [(10, 10)] -> [(10, 10)] idx: 12\n",
      "Dense :: [(32, 32)] -> [(10, 10)] idx: 15 => Add :: [(10, 10), (10, 10)] -> [(10, 10)] idx: 13\n",
      "Dense :: [(10, 10)] -> [(10, 10)] idx: 16 => Add :: [(10, 10), (10, 10)] -> [(10, 10)] idx: 13\n",
      "ResWrap :: [(10, 10)] -> [(10, 10)] idx: 11 => Dense :: [(10, 10)] -> [(10, 10)] idx: 14\n",
      "Input :: [] -> [(32, 32)] idx: 17 => Dense :: [(32, 32)] -> [(10, 10)] idx: 15\n",
      "Dense :: [(10, 10)] -> [(10, 10)] idx: 18 => Dense :: [(10, 10)] -> [(10, 10)] idx: 16\n",
      "Dense :: [(32, 32)] -> [(10, 10)] idx: 15 => Dense :: [(10, 10)] -> [(10, 10)] idx: 18\n"
     ]
    }
   ],
   "source": [
    "in_layer = tn.Input(input_shape)()\n",
    "last_layer = in_layer\n",
    "print(in_layer)\n",
    "for kernel_shape,out_shape,kernel_stride in zip(conv_kernels,conv_outs,conv_stride):\n",
    "    last_layer = tn.Conv(kernel_shape,out_shape=out_shape,kernel_stride=kernel_stride,pad=True,activation=tn.ReLU())(last_layer)\n",
    "    print(last_layer)\n",
    "for hidden_shape in hidden_shapes:\n",
    "    last_layer = tn.Dense(hidden_shape,activation=tn.ReLU())(last_layer)\n",
    "    print(last_layer)\n",
    "for i in range(residual_layers):\n",
    "    last_layer = tn.ResWrap(tn.Dense(last_layer.output_shapes[0],activation=tn.ReLU()))(last_layer)\n",
    "    print(last_layer)\n",
    "for hidden_shape in more_hidden_shapes:\n",
    "    last_layer = tn.Dense(hidden_shape,activation=tn.ReLU())(last_layer)\n",
    "    print(last_layer)\n",
    "out_layer = tn.Dense(output_shape,activation=tn.ReLU())(last_layer)\n",
    "print(out_layer)\n",
    "\n",
    "s = tn.System(inputs=[in_layer],outputs=[out_layer])"
   ]
  },
  {
   "cell_type": "code",
   "execution_count": 5,
   "metadata": {},
   "outputs": [],
   "source": [
    "import multiprocessing\n",
    "import functools\n",
    "\n",
    "def batch(length=1000):    \n",
    "    total,failures = 0,0\n",
    "    state = None\n",
    "    for true_out,input in ocr_data.tagged_2d_data(length):\n",
    "        guess_out,state = s.guess([input],return_state=True)\n",
    "        #print(guess_out[0]-true_out)\n",
    "        if np.argmax(guess_out[0]) != np.argmax(true_out):\n",
    "            failures += 1\n",
    "        s.learn(state,[true_out],scale=1e-2,loss='quad')\n",
    "        total += 1\n",
    "    return total,failures"
   ]
  },
  {
   "cell_type": "code",
   "execution_count": 6,
   "metadata": {},
   "outputs": [
    {
     "name": "stdout",
     "output_type": "stream",
     "text": [
      "loading weights\n"
     ]
    }
   ],
   "source": [
    "print('loading weights')\n",
    "#s.load_weights('OCR_residual_network.h5')"
   ]
  },
  {
   "cell_type": "code",
   "execution_count": 7,
   "metadata": {},
   "outputs": [],
   "source": [
    "#%prun batch(100)"
   ]
  },
  {
   "cell_type": "code",
   "execution_count": null,
   "metadata": {
    "scrolled": false
   },
   "outputs": [
    {
     "name": "stdout",
     "output_type": "stream",
     "text": [
      "saving weights\n",
      "batch accuracy 3490 / 10000\n",
      "saving weights\n",
      "batch accuracy 3515 / 10000\n",
      "saving weights\n",
      "batch accuracy 3557 / 10000\n",
      "saving weights\n",
      "batch accuracy 3641 / 10000\n",
      "saving weights\n",
      "batch accuracy 3599 / 10000\n",
      "saving weights\n",
      "batch accuracy 3770 / 10000\n",
      "saving weights\n",
      "batch accuracy 3737 / 10000\n",
      "saving weights\n",
      "batch accuracy 3680 / 10000\n",
      "saving weights\n",
      "batch accuracy 3839 / 10000\n",
      "saving weights\n",
      "batch accuracy 3902 / 10000\n",
      "saving weights\n",
      "batch accuracy 3807 / 10000\n",
      "saving weights\n",
      "batch accuracy 3705 / 10000\n",
      "saving weights\n",
      "batch accuracy 3977 / 10000\n",
      "saving weights\n",
      "batch accuracy 3840 / 10000\n",
      "saving weights\n",
      "batch accuracy 3855 / 10000\n",
      "saving weights\n",
      "batch accuracy 3989 / 10000\n",
      "saving weights\n",
      "batch accuracy 4055 / 10000\n",
      "saving weights\n",
      "batch accuracy 4114 / 10000\n",
      "saving weights\n",
      "batch accuracy 3788 / 10000\n",
      "saving weights\n",
      "batch accuracy 4054 / 10000\n",
      "saving weights\n",
      "batch accuracy 3920 / 10000\n",
      "saving weights\n",
      "batch accuracy 4099 / 10000\n",
      "saving weights\n",
      "batch accuracy 4106 / 10000\n",
      "saving weights\n",
      "batch accuracy 4123 / 10000\n",
      "saving weights\n",
      "batch accuracy 4200 / 10000\n",
      "saving weights\n",
      "batch accuracy 4183 / 10000\n",
      "saving weights\n",
      "batch accuracy 4298 / 10000\n",
      "saving weights\n",
      "batch accuracy 4460 / 10000\n",
      "saving weights\n",
      "batch accuracy 4013 / 10000\n",
      "saving weights\n",
      "batch accuracy 4152 / 10000\n",
      "saving weights\n",
      "batch accuracy 4253 / 10000\n",
      "saving weights\n",
      "batch accuracy 4262 / 10000\n",
      "saving weights\n",
      "batch accuracy 4325 / 10000\n",
      "saving weights\n",
      "batch accuracy 4213 / 10000\n",
      "saving weights\n",
      "batch accuracy 4537 / 10000\n",
      "saving weights\n",
      "batch accuracy 4457 / 10000\n",
      "saving weights\n",
      "batch accuracy 4510 / 10000\n",
      "saving weights\n",
      "batch accuracy 4391 / 10000\n",
      "saving weights\n",
      "batch accuracy 4519 / 10000\n",
      "saving weights\n",
      "batch accuracy 4642 / 10000\n",
      "saving weights\n",
      "batch accuracy 4665 / 10000\n",
      "saving weights\n",
      "batch accuracy 4607 / 10000\n"
     ]
    }
   ],
   "source": [
    "try:\n",
    "    batch_size = 10000\n",
    "    while True:\n",
    "        cases,failures = batch(batch_size)\n",
    "        print('saving weights')\n",
    "        s.save_weights('OCR_residual_network.h5')\n",
    "        print('batch accuracy',cases-failures,'/',cases)\n",
    "        if (cases-failures)/cases > 0.98:\n",
    "            break\n",
    "except KeyboardInterrupt:\n",
    "    print('Stopped by user')"
   ]
  },
  {
   "cell_type": "code",
   "execution_count": null,
   "metadata": {
    "scrolled": true
   },
   "outputs": [],
   "source": [
    "for i,c in enumerate(range(ord('A'),ord('Z'))):\n",
    "    print('neuron',chr(c))\n",
    "    plt.imshow(s.parts[0].layer[0].weights[i,:].reshape(hidden_shapes[-1]))\n",
    "    plt.colorbar()\n",
    "    plt.show()\n",
    "    plt.close()"
   ]
  },
  {
   "cell_type": "code",
   "execution_count": null,
   "metadata": {
    "scrolled": true
   },
   "outputs": [],
   "source": [
    "for i in range(np.prod(hidden_shapes[0])):\n",
    "    print('layer 0 neuron',i)\n",
    "    plt.imshow(s.parts[15].layer[0].weights[i,:].reshape((32,32)))\n",
    "    plt.colorbar()\n",
    "    plt.show()\n",
    "    plt.close()"
   ]
  },
  {
   "cell_type": "code",
   "execution_count": null,
   "metadata": {},
   "outputs": [],
   "source": []
  }
 ],
 "metadata": {
  "kernelspec": {
   "display_name": "Python 3.8",
   "language": "python",
   "name": "python3.8"
  },
  "language_info": {
   "codemirror_mode": {
    "name": "ipython",
    "version": 3
   },
   "file_extension": ".py",
   "mimetype": "text/x-python",
   "name": "python",
   "nbconvert_exporter": "python",
   "pygments_lexer": "ipython3",
   "version": "3.8.4"
  }
 },
 "nbformat": 4,
 "nbformat_minor": 4
}
