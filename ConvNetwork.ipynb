{
 "cells": [
  {
   "cell_type": "code",
   "execution_count": 1,
   "metadata": {},
   "outputs": [
    {
     "name": "stderr",
     "output_type": "stream",
     "text": [
      "/home/benland100/Desktop/npnet/npnet.py:23: SyntaxWarning: \"is\" with a literal. Did you mean \"==\"?\n",
      "  if init is 'none':\n",
      "/home/benland100/Desktop/npnet/npnet.py:25: SyntaxWarning: \"is\" with a literal. Did you mean \"==\"?\n",
      "  elif init is 'xavier':\n",
      "/home/benland100/Desktop/npnet/npnet.py:28: SyntaxWarning: \"is\" with a literal. Did you mean \"==\"?\n",
      "  elif init is 'he':\n"
     ]
    }
   ],
   "source": [
    "import npnet as tn\n",
    "import ocr_data\n",
    "\n",
    "import numpy as np"
   ]
  },
  {
   "cell_type": "code",
   "execution_count": 2,
   "metadata": {},
   "outputs": [],
   "source": [
    "%matplotlib inline\n",
    "\n",
    "import matplotlib\n",
    "import matplotlib.pyplot as plt\n",
    "\n",
    "matplotlib.rcParams['figure.figsize'] = [10,7]\n",
    "matplotlib.rcParams['xtick.top'] = True\n",
    "matplotlib.rcParams['xtick.direction'] = 'in'\n",
    "matplotlib.rcParams['xtick.minor.visible'] = True\n",
    "matplotlib.rcParams['ytick.right'] = True\n",
    "matplotlib.rcParams['ytick.direction'] = 'in'\n",
    "matplotlib.rcParams['ytick.minor.visible'] = True\n",
    "matplotlib.rcParams['font.size'] = 19\n",
    "matplotlib.rcParams['font.family'] = 'DejaVu Serif'\n",
    "matplotlib.rcParams['mathtext.default'] = 'regular'\n",
    "matplotlib.rcParams['errorbar.capsize'] = 3"
   ]
  },
  {
   "cell_type": "code",
   "execution_count": 3,
   "metadata": {},
   "outputs": [
    {
     "name": "stdout",
     "output_type": "stream",
     "text": [
      "(32, 32) (26,)\n"
     ]
    }
   ],
   "source": [
    "input_shape = ocr_data.in_2d_shape\n",
    "conv_kernels = [(5,5)] #[(3,3),(3,3),(3,3),(3,3),(3,3)]\n",
    "conv_stride = [(3,3)] #[(1,1),(2,2),(1,1),(2,2),(1,1)]\n",
    "conv_outs = [(4,)] #[(4,),(8,),(8,),(16,),(16,)]\n",
    "conv_layers = len(conv_kernels)\n",
    "hidden_shapes = []\n",
    "hidden_layers = len(hidden_shapes)\n",
    "output_shape = ocr_data.out_shape\n",
    "print(input_shape,output_shape)"
   ]
  },
  {
   "cell_type": "code",
   "execution_count": 4,
   "metadata": {},
   "outputs": [
    {
     "name": "stdout",
     "output_type": "stream",
     "text": [
      "Input :: [] -> [(32, 32)]\n",
      "Conv :: [(32, 32)] -> [(10, 10, 4)]\n",
      "Dense :: [(10, 10, 4)] -> [(26,)]\n",
      "Conv :: [(32, 32)] -> [(10, 10, 4)] idx: 1 => Dense :: [(10, 10, 4)] -> [(26,)] idx: 0\n",
      "Input :: [] -> [(32, 32)] idx: 2 => Conv :: [(32, 32)] -> [(10, 10, 4)] idx: 1\n"
     ]
    }
   ],
   "source": [
    "in_layer = tn.Input(input_shape)()\n",
    "last_layer = in_layer\n",
    "print(in_layer)\n",
    "for kernel_shape,out_shape,kernel_stride in zip(conv_kernels,conv_outs,conv_stride):\n",
    "    last_layer = tn.Conv(kernel_shape,out_shape=out_shape,kernel_stride=kernel_stride,pad=True,activation=tn.ReLU())(last_layer)\n",
    "    print(last_layer)\n",
    "for hidden_shape in hidden_shapes:\n",
    "    last_layer = tn.Dense(hidden_shape,activation=tn.Tanh())(last_layer)\n",
    "    print(last_layer)\n",
    "out_layer = tn.Dense(output_shape,activation=tn.Sigmoid())(last_layer)\n",
    "print(out_layer)\n",
    "\n",
    "s = tn.System(inputs=[in_layer],outputs=[out_layer])"
   ]
  },
  {
   "cell_type": "code",
   "execution_count": 5,
   "metadata": {},
   "outputs": [],
   "source": [
    "import multiprocessing\n",
    "import functools\n",
    "\n",
    "def batch(length=1000):    \n",
    "    total,failures = 0,0\n",
    "    state = None\n",
    "    for true_out,input in ocr_data.tagged_2d_data(length):\n",
    "        guess_out,state = s.guess([input],return_state=True)\n",
    "        #print(guess_out[0]-true_out)\n",
    "        if np.argmax(guess_out[0]) != np.argmax(true_out):\n",
    "            failures += 1\n",
    "        s.learn(state,[true_out],scale=1e-2)\n",
    "        total += 1\n",
    "    return total,failures"
   ]
  },
  {
   "cell_type": "code",
   "execution_count": 6,
   "metadata": {},
   "outputs": [
    {
     "name": "stdout",
     "output_type": "stream",
     "text": [
      "loading weights\n"
     ]
    }
   ],
   "source": [
    "print('loading weights')\n",
    "#s.load_weights('OCR_conv_network.h5')"
   ]
  },
  {
   "cell_type": "code",
   "execution_count": 7,
   "metadata": {},
   "outputs": [],
   "source": [
    "#%prun batch(1000)"
   ]
  },
  {
   "cell_type": "code",
   "execution_count": null,
   "metadata": {
    "scrolled": false
   },
   "outputs": [
    {
     "name": "stdout",
     "output_type": "stream",
     "text": [
      "saving weights\n",
      "batch accuracy 8134 / 10000\n",
      "saving weights\n",
      "batch accuracy 9229 / 10000\n",
      "saving weights\n",
      "batch accuracy 9295 / 10000\n",
      "saving weights\n",
      "batch accuracy 9374 / 10000\n",
      "saving weights\n",
      "batch accuracy 9362 / 10000\n",
      "saving weights\n",
      "batch accuracy 9433 / 10000\n",
      "saving weights\n",
      "batch accuracy 9526 / 10000\n",
      "saving weights\n",
      "batch accuracy 9513 / 10000\n",
      "saving weights\n",
      "batch accuracy 9544 / 10000\n",
      "saving weights\n",
      "batch accuracy 9531 / 10000\n",
      "saving weights\n",
      "batch accuracy 9579 / 10000\n",
      "saving weights\n",
      "batch accuracy 9589 / 10000\n",
      "saving weights\n",
      "batch accuracy 9612 / 10000\n",
      "saving weights\n",
      "batch accuracy 9582 / 10000\n",
      "saving weights\n",
      "batch accuracy 9578 / 10000\n",
      "saving weights\n",
      "batch accuracy 9615 / 10000\n",
      "saving weights\n",
      "batch accuracy 9605 / 10000\n",
      "saving weights\n",
      "batch accuracy 9634 / 10000\n",
      "saving weights\n",
      "batch accuracy 9649 / 10000\n",
      "saving weights\n",
      "batch accuracy 9661 / 10000\n",
      "saving weights\n",
      "batch accuracy 9665 / 10000\n",
      "saving weights\n",
      "batch accuracy 9698 / 10000\n",
      "saving weights\n",
      "batch accuracy 9710 / 10000\n",
      "saving weights\n",
      "batch accuracy 9711 / 10000\n",
      "saving weights\n",
      "batch accuracy 9700 / 10000\n",
      "saving weights\n",
      "batch accuracy 9691 / 10000\n",
      "saving weights\n",
      "batch accuracy 9731 / 10000\n",
      "saving weights\n",
      "batch accuracy 9699 / 10000\n",
      "saving weights\n",
      "batch accuracy 9708 / 10000\n",
      "saving weights\n",
      "batch accuracy 9690 / 10000\n",
      "saving weights\n",
      "batch accuracy 9689 / 10000\n",
      "saving weights\n",
      "batch accuracy 9698 / 10000\n",
      "saving weights\n",
      "batch accuracy 9692 / 10000\n",
      "saving weights\n",
      "batch accuracy 9718 / 10000\n",
      "saving weights\n",
      "batch accuracy 9700 / 10000\n",
      "saving weights\n",
      "batch accuracy 9701 / 10000\n",
      "saving weights\n",
      "batch accuracy 9706 / 10000\n",
      "saving weights\n",
      "batch accuracy 9697 / 10000\n",
      "saving weights\n",
      "batch accuracy 9666 / 10000\n",
      "saving weights\n",
      "batch accuracy 9670 / 10000\n",
      "saving weights\n",
      "batch accuracy 9711 / 10000\n"
     ]
    }
   ],
   "source": [
    "try:\n",
    "    batch_size = 10000\n",
    "    while True:\n",
    "        cases,failures = batch(batch_size)\n",
    "        print('saving weights')\n",
    "        s.save_weights('OCR_conv_network.h5')\n",
    "        print('batch accuracy',cases-failures,'/',cases)\n",
    "        if (cases-failures)/cases > 0.999:\n",
    "            break\n",
    "except KeyboardInterrupt:\n",
    "    print('Stopped by user')"
   ]
  },
  {
   "cell_type": "code",
   "execution_count": null,
   "metadata": {
    "scrolled": true
   },
   "outputs": [],
   "source": [
    "#for l in s.parts[0].layer:\n",
    "#    plt.imshow(l.weights[1:].reshape((4,4)))\n",
    "#    plt.colorbar()\n",
    "#    plt.show()\n",
    "#    plt.close()"
   ]
  },
  {
   "cell_type": "code",
   "execution_count": null,
   "metadata": {
    "scrolled": true
   },
   "outputs": [],
   "source": [
    "#for l in s.parts[1].layer:\n",
    "#    plt.imshow(l.weights[1:].reshape((32,32)))\n",
    "#    plt.colorbar()\n",
    "#    plt.show()\n",
    "#    plt.close()"
   ]
  },
  {
   "cell_type": "code",
   "execution_count": null,
   "metadata": {
    "scrolled": true
   },
   "outputs": [],
   "source": [
    "for i,c in enumerate(range(ord('A'),ord('Z'))):\n",
    "    for j in range(4):\n",
    "        print('neuron',chr(c),'conv',j)\n",
    "        plt.imshow(s.parts[-3].layer[0].weights[i,1:].reshape((10,10,4))[:,:,j])\n",
    "        plt.colorbar()\n",
    "        plt.show()\n",
    "        plt.close()"
   ]
  },
  {
   "cell_type": "code",
   "execution_count": null,
   "metadata": {
    "scrolled": false
   },
   "outputs": [],
   "source": [
    "for i in range(4):\n",
    "    print('conv kernel',i)\n",
    "    plt.imshow(s.parts[-2].layer[0].weights[i,1:].reshape((5,5)))\n",
    "    plt.colorbar()\n",
    "    plt.show()\n",
    "    plt.close()"
   ]
  },
  {
   "cell_type": "code",
   "execution_count": null,
   "metadata": {},
   "outputs": [],
   "source": []
  }
 ],
 "metadata": {
  "kernelspec": {
   "display_name": "Python 3.8",
   "language": "python",
   "name": "python3.8"
  },
  "language_info": {
   "codemirror_mode": {
    "name": "ipython",
    "version": 3
   },
   "file_extension": ".py",
   "mimetype": "text/x-python",
   "name": "python",
   "nbconvert_exporter": "python",
   "pygments_lexer": "ipython3",
   "version": "3.8.3"
  }
 },
 "nbformat": 4,
 "nbformat_minor": 4
}
