{
 "cells": [
  {
   "cell_type": "code",
   "execution_count": 1,
   "metadata": {},
   "outputs": [],
   "source": [
    "import npnet as tn\n",
    "import ocr_data\n",
    "\n",
    "import numpy as np"
   ]
  },
  {
   "cell_type": "code",
   "execution_count": 2,
   "metadata": {},
   "outputs": [],
   "source": [
    "%matplotlib inline\n",
    "\n",
    "import matplotlib\n",
    "import matplotlib.pyplot as plt\n",
    "\n",
    "matplotlib.rcParams['figure.figsize'] = [10,7]\n",
    "matplotlib.rcParams['xtick.top'] = True\n",
    "matplotlib.rcParams['xtick.direction'] = 'in'\n",
    "matplotlib.rcParams['xtick.minor.visible'] = True\n",
    "matplotlib.rcParams['ytick.right'] = True\n",
    "matplotlib.rcParams['ytick.direction'] = 'in'\n",
    "matplotlib.rcParams['ytick.minor.visible'] = True\n",
    "matplotlib.rcParams['font.size'] = 19\n",
    "matplotlib.rcParams['font.family'] = 'DejaVu Serif'\n",
    "matplotlib.rcParams['mathtext.default'] = 'regular'\n",
    "matplotlib.rcParams['errorbar.capsize'] = 3"
   ]
  },
  {
   "cell_type": "code",
   "execution_count": 3,
   "metadata": {},
   "outputs": [
    {
     "name": "stdout",
     "output_type": "stream",
     "text": [
      "(32, 32) (26,)\n"
     ]
    }
   ],
   "source": [
    "input_shape = ocr_data.in_2d_shape\n",
    "conv_kernels = [] #[(5,5)] #[(3,3),(3,3),(3,3),(3,3),(3,3)]\n",
    "conv_stride = [] #[(3,3)] #[(1,1),(2,2),(1,1),(2,2),(1,1)]\n",
    "conv_outs = [] #[(4,)] #[(4,),(8,),(8,),(16,),(16,)]\n",
    "conv_layers = len(conv_kernels)\n",
    "hidden_shapes = [(8,8)]*10\n",
    "hidden_layers = len(hidden_shapes)\n",
    "output_shape = ocr_data.out_shape\n",
    "print(input_shape,output_shape)"
   ]
  },
  {
   "cell_type": "code",
   "execution_count": 4,
   "metadata": {},
   "outputs": [
    {
     "name": "stdout",
     "output_type": "stream",
     "text": [
      "Input :: [] -> [(32, 32)]\n",
      "Dense :: [(32, 32)] -> [(8, 8)]\n",
      "Dense :: [(8, 8)] -> [(8, 8)]\n",
      "Dense :: [(8, 8)] -> [(8, 8)]\n",
      "Dense :: [(8, 8)] -> [(8, 8)]\n",
      "Dense :: [(8, 8)] -> [(8, 8)]\n",
      "Dense :: [(8, 8)] -> [(8, 8)]\n",
      "Dense :: [(8, 8)] -> [(8, 8)]\n",
      "Dense :: [(8, 8)] -> [(8, 8)]\n",
      "Dense :: [(8, 8)] -> [(8, 8)]\n",
      "Dense :: [(8, 8)] -> [(8, 8)]\n",
      "Dense :: [(8, 8)] -> [(26,)]\n",
      "Dense :: [(8, 8)] -> [(8, 8)] idx: 1 => Dense :: [(8, 8)] -> [(26,)] idx: 0\n",
      "Dense :: [(8, 8)] -> [(8, 8)] idx: 2 => Dense :: [(8, 8)] -> [(8, 8)] idx: 1\n",
      "Dense :: [(8, 8)] -> [(8, 8)] idx: 3 => Dense :: [(8, 8)] -> [(8, 8)] idx: 2\n",
      "Dense :: [(8, 8)] -> [(8, 8)] idx: 4 => Dense :: [(8, 8)] -> [(8, 8)] idx: 3\n",
      "Dense :: [(8, 8)] -> [(8, 8)] idx: 5 => Dense :: [(8, 8)] -> [(8, 8)] idx: 4\n",
      "Dense :: [(8, 8)] -> [(8, 8)] idx: 6 => Dense :: [(8, 8)] -> [(8, 8)] idx: 5\n",
      "Dense :: [(8, 8)] -> [(8, 8)] idx: 7 => Dense :: [(8, 8)] -> [(8, 8)] idx: 6\n",
      "Dense :: [(8, 8)] -> [(8, 8)] idx: 8 => Dense :: [(8, 8)] -> [(8, 8)] idx: 7\n",
      "Dense :: [(8, 8)] -> [(8, 8)] idx: 9 => Dense :: [(8, 8)] -> [(8, 8)] idx: 8\n",
      "Dense :: [(32, 32)] -> [(8, 8)] idx: 10 => Dense :: [(8, 8)] -> [(8, 8)] idx: 9\n",
      "Input :: [] -> [(32, 32)] idx: 11 => Dense :: [(32, 32)] -> [(8, 8)] idx: 10\n"
     ]
    }
   ],
   "source": [
    "in_layer = tn.Input(input_shape)()\n",
    "last_layer = in_layer\n",
    "print(in_layer)\n",
    "for kernel_shape,out_shape,kernel_stride in zip(conv_kernels,conv_outs,conv_stride):\n",
    "    last_layer = tn.Conv(kernel_shape,out_shape=out_shape,kernel_stride=kernel_stride,pad=True,activation=tn.ReLU())(last_layer)\n",
    "    print(last_layer)\n",
    "for hidden_shape in hidden_shapes:\n",
    "    last_layer = tn.Dense(hidden_shape,activation=tn.ReLU())(last_layer)\n",
    "    print(last_layer)\n",
    "out_layer = tn.Dense(output_shape,activation=tn.ReLU())(last_layer)\n",
    "print(out_layer)\n",
    "\n",
    "s = tn.System(inputs=[in_layer],outputs=[out_layer])"
   ]
  },
  {
   "cell_type": "code",
   "execution_count": 5,
   "metadata": {},
   "outputs": [],
   "source": [
    "import multiprocessing\n",
    "import functools\n",
    "\n",
    "def batch(length=1000):    \n",
    "    total,failures = 0,0\n",
    "    state = None\n",
    "    for true_out,input in ocr_data.tagged_2d_data(length):\n",
    "        guess_out,state = s.guess([input],return_state=True)\n",
    "        #print(guess_out[0],guess_out[0][np.argmax(true_out)])\n",
    "        if np.argmax(guess_out[0]) != np.argmax(true_out):\n",
    "            #print(chr(ord('A')+np.argmax(guess_out[0])),chr(ord('A')+np.argmax(true_out)))\n",
    "            failures += 1\n",
    "        s.learn(state,[true_out],scale=1e-2,loss='quad')\n",
    "        total += 1\n",
    "    return total,failures"
   ]
  },
  {
   "cell_type": "code",
   "execution_count": 6,
   "metadata": {},
   "outputs": [
    {
     "name": "stdout",
     "output_type": "stream",
     "text": [
      "loading weights\n"
     ]
    }
   ],
   "source": [
    "print('loading weights')\n",
    "#s.load_weights('OCR_deep_network.h5')"
   ]
  },
  {
   "cell_type": "code",
   "execution_count": 7,
   "metadata": {},
   "outputs": [],
   "source": [
    "#%prun batch(1000)"
   ]
  },
  {
   "cell_type": "code",
   "execution_count": null,
   "metadata": {
    "scrolled": false
   },
   "outputs": [
    {
     "name": "stdout",
     "output_type": "stream",
     "text": [
      "saving weights\n",
      "batch accuracy 6508 / 10000\n",
      "saving weights\n",
      "batch accuracy 8927 / 10000\n",
      "saving weights\n",
      "batch accuracy 9454 / 10000\n",
      "saving weights\n",
      "batch accuracy 9542 / 10000\n",
      "saving weights\n",
      "batch accuracy 9636 / 10000\n",
      "saving weights\n",
      "batch accuracy 9667 / 10000\n",
      "saving weights\n",
      "batch accuracy 9749 / 10000\n",
      "saving weights\n",
      "batch accuracy 9825 / 10000\n",
      "saving weights\n",
      "batch accuracy 9851 / 10000\n",
      "saving weights\n",
      "batch accuracy 9863 / 10000\n",
      "saving weights\n",
      "batch accuracy 9886 / 10000\n"
     ]
    }
   ],
   "source": [
    "try:\n",
    "    batch_size = 10000\n",
    "    while True:\n",
    "        cases,failures = batch(batch_size)\n",
    "        print('saving weights')\n",
    "        s.save_weights('OCR_deep_network.h5')\n",
    "        print('batch accuracy',cases-failures,'/',cases)\n",
    "        if (cases-failures)/cases > 0.999:\n",
    "            break\n",
    "except KeyboardInterrupt:\n",
    "    print('Stopped by user')"
   ]
  },
  {
   "cell_type": "code",
   "execution_count": null,
   "metadata": {
    "scrolled": true
   },
   "outputs": [],
   "source": [
    "for i,c in enumerate(range(ord('A'),ord('Z'))):\n",
    "    print('neuron',chr(c))\n",
    "    plt.imshow(s.parts[0].layer[0].weights[i,:].reshape(hidden_shapes[-1]))\n",
    "    plt.colorbar()\n",
    "    plt.show()\n",
    "    plt.close()"
   ]
  },
  {
   "cell_type": "code",
   "execution_count": null,
   "metadata": {
    "scrolled": false
   },
   "outputs": [],
   "source": [
    "for i in range(np.prod(hidden_shapes[0])):\n",
    "    print('layer 0 neuron',i)\n",
    "    plt.imshow(s.parts[-2].layer[0].weights[i,:].reshape((32,32)))\n",
    "    plt.colorbar()\n",
    "    plt.show()\n",
    "    plt.close()"
   ]
  },
  {
   "cell_type": "code",
   "execution_count": null,
   "metadata": {},
   "outputs": [],
   "source": []
  }
 ],
 "metadata": {
  "kernelspec": {
   "display_name": "Python 3.8",
   "language": "python",
   "name": "python3.8"
  },
  "language_info": {
   "codemirror_mode": {
    "name": "ipython",
    "version": 3
   },
   "file_extension": ".py",
   "mimetype": "text/x-python",
   "name": "python",
   "nbconvert_exporter": "python",
   "pygments_lexer": "ipython3",
   "version": "3.8.4"
  }
 },
 "nbformat": 4,
 "nbformat_minor": 4
}
